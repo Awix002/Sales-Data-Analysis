{
 "cells": [
  {
   "cell_type": "code",
   "execution_count": 2,
   "id": "09b32df1",
   "metadata": {},
   "outputs": [],
   "source": [
    "import pandas as pd\n",
    "from matplotlib import pyplot as plt\n",
    "import seaborn as sns"
   ]
  },
  {
   "cell_type": "markdown",
   "id": "fb8d83c0",
   "metadata": {},
   "source": [
    "## Data Preparation"
   ]
  },
  {
   "cell_type": "markdown",
   "id": "0a440f87",
   "metadata": {},
   "source": [
    "### Write a python program to merge data from each month into one CSV and read in updated dataframe. "
   ]
  },
  {
   "cell_type": "code",
   "execution_count": 3,
   "id": "0bef6a9b",
   "metadata": {},
   "outputs": [],
   "source": [
    "#reading all the csv files \n",
    "df1 = pd.read_csv('Sales_January_2019.csv')\n",
    "df2 = pd.read_csv('Sales_February_2019.csv')\n",
    "df3 = pd.read_csv('Sales_March_2019.csv')\n",
    "df4 = pd.read_csv('Sales_April_2019.csv')\n",
    "df5 = pd.read_csv('Sales_May_2019.csv')\n",
    "df6 = pd.read_csv('Sales_June_2019.csv')\n",
    "df7 = pd.read_csv('Sales_July_2019.csv')\n",
    "df8 = pd.read_csv('Sales_August_2019.csv')\n",
    "df9 = pd.read_csv('Sales_September_2019.csv')\n",
    "df10 = pd.read_csv('Sales_October_2019.csv')\n",
    "df11 = pd.read_csv('Sales_November_2019.csv')\n",
    "df12 = pd.read_csv('Sales_December_2019.csv')"
   ]
  },
  {
   "cell_type": "code",
   "execution_count": 4,
   "id": "ebea13a6",
   "metadata": {},
   "outputs": [
    {
     "data": {
      "text/html": [
       "<div>\n",
       "<style scoped>\n",
       "    .dataframe tbody tr th:only-of-type {\n",
       "        vertical-align: middle;\n",
       "    }\n",
       "\n",
       "    .dataframe tbody tr th {\n",
       "        vertical-align: top;\n",
       "    }\n",
       "\n",
       "    .dataframe thead th {\n",
       "        text-align: right;\n",
       "    }\n",
       "</style>\n",
       "<table border=\"1\" class=\"dataframe\">\n",
       "  <thead>\n",
       "    <tr style=\"text-align: right;\">\n",
       "      <th></th>\n",
       "      <th>Order ID</th>\n",
       "      <th>Product</th>\n",
       "      <th>Quantity Ordered</th>\n",
       "      <th>Price Each</th>\n",
       "      <th>Order Date</th>\n",
       "      <th>Purchase Address</th>\n",
       "    </tr>\n",
       "  </thead>\n",
       "  <tbody>\n",
       "    <tr>\n",
       "      <th>0</th>\n",
       "      <td>141234.0</td>\n",
       "      <td>iPhone</td>\n",
       "      <td>1.0</td>\n",
       "      <td>700.00</td>\n",
       "      <td>1/22/2019 21:25</td>\n",
       "      <td>944 Walnut St, Boston, MA 02215</td>\n",
       "    </tr>\n",
       "    <tr>\n",
       "      <th>1</th>\n",
       "      <td>141235.0</td>\n",
       "      <td>Lightning Charging Cable</td>\n",
       "      <td>1.0</td>\n",
       "      <td>14.95</td>\n",
       "      <td>1/28/2019 14:15</td>\n",
       "      <td>185 Maple St, Portland, OR 97035</td>\n",
       "    </tr>\n",
       "    <tr>\n",
       "      <th>2</th>\n",
       "      <td>141236.0</td>\n",
       "      <td>Wired Headphones</td>\n",
       "      <td>2.0</td>\n",
       "      <td>11.99</td>\n",
       "      <td>1/17/2019 13:33</td>\n",
       "      <td>538 Adams St, San Francisco, CA 94016</td>\n",
       "    </tr>\n",
       "    <tr>\n",
       "      <th>3</th>\n",
       "      <td>141237.0</td>\n",
       "      <td>27in FHD Monitor</td>\n",
       "      <td>1.0</td>\n",
       "      <td>149.99</td>\n",
       "      <td>1/5/2019 20:33</td>\n",
       "      <td>738 10th St, Los Angeles, CA 90001</td>\n",
       "    </tr>\n",
       "    <tr>\n",
       "      <th>4</th>\n",
       "      <td>141238.0</td>\n",
       "      <td>Wired Headphones</td>\n",
       "      <td>1.0</td>\n",
       "      <td>11.99</td>\n",
       "      <td>1/25/2019 11:59</td>\n",
       "      <td>387 10th St, Austin, TX 73301</td>\n",
       "    </tr>\n",
       "    <tr>\n",
       "      <th>...</th>\n",
       "      <td>...</td>\n",
       "      <td>...</td>\n",
       "      <td>...</td>\n",
       "      <td>...</td>\n",
       "      <td>...</td>\n",
       "      <td>...</td>\n",
       "    </tr>\n",
       "    <tr>\n",
       "      <th>25112</th>\n",
       "      <td>319666.0</td>\n",
       "      <td>Lightning Charging Cable</td>\n",
       "      <td>1.0</td>\n",
       "      <td>14.95</td>\n",
       "      <td>12/11/2019 20:58</td>\n",
       "      <td>14 Madison St, San Francisco, CA 94016</td>\n",
       "    </tr>\n",
       "    <tr>\n",
       "      <th>25113</th>\n",
       "      <td>319667.0</td>\n",
       "      <td>AA Batteries (4-pack)</td>\n",
       "      <td>2.0</td>\n",
       "      <td>3.84</td>\n",
       "      <td>12/1/2019 12:01</td>\n",
       "      <td>549 Willow St, Los Angeles, CA 90001</td>\n",
       "    </tr>\n",
       "    <tr>\n",
       "      <th>25114</th>\n",
       "      <td>319668.0</td>\n",
       "      <td>Vareebadd Phone</td>\n",
       "      <td>1.0</td>\n",
       "      <td>400.00</td>\n",
       "      <td>12/9/2019 6:43</td>\n",
       "      <td>273 Wilson St, Seattle, WA 98101</td>\n",
       "    </tr>\n",
       "    <tr>\n",
       "      <th>25115</th>\n",
       "      <td>319669.0</td>\n",
       "      <td>Wired Headphones</td>\n",
       "      <td>1.0</td>\n",
       "      <td>11.99</td>\n",
       "      <td>12/3/2019 10:39</td>\n",
       "      <td>778 River St, Dallas, TX 75001</td>\n",
       "    </tr>\n",
       "    <tr>\n",
       "      <th>25116</th>\n",
       "      <td>319670.0</td>\n",
       "      <td>Bose SoundSport Headphones</td>\n",
       "      <td>1.0</td>\n",
       "      <td>99.99</td>\n",
       "      <td>12/21/2019 21:45</td>\n",
       "      <td>747 Chestnut St, Los Angeles, CA 90001</td>\n",
       "    </tr>\n",
       "  </tbody>\n",
       "</table>\n",
       "<p>186850 rows × 6 columns</p>\n",
       "</div>"
      ],
      "text/plain": [
       "       Order ID                     Product  Quantity Ordered  Price Each  \\\n",
       "0      141234.0                      iPhone               1.0      700.00   \n",
       "1      141235.0    Lightning Charging Cable               1.0       14.95   \n",
       "2      141236.0            Wired Headphones               2.0       11.99   \n",
       "3      141237.0            27in FHD Monitor               1.0      149.99   \n",
       "4      141238.0            Wired Headphones               1.0       11.99   \n",
       "...         ...                         ...               ...         ...   \n",
       "25112  319666.0    Lightning Charging Cable               1.0       14.95   \n",
       "25113  319667.0       AA Batteries (4-pack)               2.0        3.84   \n",
       "25114  319668.0             Vareebadd Phone               1.0      400.00   \n",
       "25115  319669.0            Wired Headphones               1.0       11.99   \n",
       "25116  319670.0  Bose SoundSport Headphones               1.0       99.99   \n",
       "\n",
       "             Order Date                        Purchase Address  \n",
       "0       1/22/2019 21:25         944 Walnut St, Boston, MA 02215  \n",
       "1       1/28/2019 14:15        185 Maple St, Portland, OR 97035  \n",
       "2       1/17/2019 13:33   538 Adams St, San Francisco, CA 94016  \n",
       "3        1/5/2019 20:33      738 10th St, Los Angeles, CA 90001  \n",
       "4       1/25/2019 11:59           387 10th St, Austin, TX 73301  \n",
       "...                 ...                                     ...  \n",
       "25112  12/11/2019 20:58  14 Madison St, San Francisco, CA 94016  \n",
       "25113   12/1/2019 12:01    549 Willow St, Los Angeles, CA 90001  \n",
       "25114    12/9/2019 6:43        273 Wilson St, Seattle, WA 98101  \n",
       "25115   12/3/2019 10:39          778 River St, Dallas, TX 75001  \n",
       "25116  12/21/2019 21:45  747 Chestnut St, Los Angeles, CA 90001  \n",
       "\n",
       "[186850 rows x 6 columns]"
      ]
     },
     "execution_count": 4,
     "metadata": {},
     "output_type": "execute_result"
    }
   ],
   "source": [
    "#merging all the 12 csv files into one dataframe\n",
    "BAFrame = pd.concat([df1,df2,df3,df4,df5,df6,df7,df8,df9,df10,df11,df12])\n",
    "\n",
    "#displaying all the data from the new dataframe\n",
    "BAFrame"
   ]
  },
  {
   "cell_type": "markdown",
   "id": "b2e6cc8f",
   "metadata": {},
   "source": [
    "### Write a python program to remove the NaN missing values from updated dataframe. "
   ]
  },
  {
   "cell_type": "code",
   "execution_count": 5,
   "id": "d9487066",
   "metadata": {},
   "outputs": [
    {
     "data": {
      "text/plain": [
       "Order ID            900\n",
       "Product             900\n",
       "Quantity Ordered    900\n",
       "Price Each          900\n",
       "Order Date          900\n",
       "Purchase Address    900\n",
       "dtype: int64"
      ]
     },
     "execution_count": 5,
     "metadata": {},
     "output_type": "execute_result"
    }
   ],
   "source": [
    "#checking the all null values in every columns\n",
    "BAFrame.isnull().sum()"
   ]
  },
  {
   "cell_type": "code",
   "execution_count": 6,
   "id": "3a944c0d",
   "metadata": {},
   "outputs": [],
   "source": [
    "#droping all the null values from the dataframe\n",
    "BAFrame = BAFrame.dropna()"
   ]
  },
  {
   "cell_type": "code",
   "execution_count": 7,
   "id": "64d2385a",
   "metadata": {},
   "outputs": [
    {
     "data": {
      "text/plain": [
       "Order ID            0\n",
       "Product             0\n",
       "Quantity Ordered    0\n",
       "Price Each          0\n",
       "Order Date          0\n",
       "Purchase Address    0\n",
       "dtype: int64"
      ]
     },
     "execution_count": 7,
     "metadata": {},
     "output_type": "execute_result"
    }
   ],
   "source": [
    "#checking all the null values after removing all the null values\n",
    "BAFrame.isnull().sum()"
   ]
  },
  {
   "cell_type": "markdown",
   "id": "0f301d92",
   "metadata": {},
   "source": [
    "### Write a python program to convert Quantity Ordered and Price Each to numeric. "
   ]
  },
  {
   "cell_type": "code",
   "execution_count": 8,
   "id": "4564b82a",
   "metadata": {},
   "outputs": [],
   "source": [
    "pd.options.mode.chained_assignment = None\n",
    "\n",
    "#converting the data type of the column \"Quantity Ordered\" to numeric data type\n",
    "BAFrame['Quantity Ordered'] = pd.to_numeric(BAFrame['Quantity Ordered'])\n",
    "\n",
    "#converting the data type of the column \"Price Each\" to numeric data type\n",
    "BAFrame['Price Each'] = pd.to_numeric(BAFrame['Price Each'])"
   ]
  },
  {
   "cell_type": "code",
   "execution_count": 9,
   "id": "68837e87",
   "metadata": {
    "scrolled": true
   },
   "outputs": [
    {
     "data": {
      "text/plain": [
       "Order ID            float64\n",
       "Product              object\n",
       "Quantity Ordered    float64\n",
       "Price Each          float64\n",
       "Order Date           object\n",
       "Purchase Address     object\n",
       "dtype: object"
      ]
     },
     "execution_count": 9,
     "metadata": {},
     "output_type": "execute_result"
    }
   ],
   "source": [
    "#checking all the data types of all the cloumns\n",
    "BAFrame.dtypes"
   ]
  },
  {
   "cell_type": "markdown",
   "id": "a187f584",
   "metadata": {},
   "source": [
    "### Create a new column named Month from Ordered Date of updated dataframe and convert it to integer as data type."
   ]
  },
  {
   "cell_type": "code",
   "execution_count": 10,
   "id": "4a71eb4c",
   "metadata": {},
   "outputs": [
    {
     "data": {
      "text/html": [
       "<div>\n",
       "<style scoped>\n",
       "    .dataframe tbody tr th:only-of-type {\n",
       "        vertical-align: middle;\n",
       "    }\n",
       "\n",
       "    .dataframe tbody tr th {\n",
       "        vertical-align: top;\n",
       "    }\n",
       "\n",
       "    .dataframe thead th {\n",
       "        text-align: right;\n",
       "    }\n",
       "</style>\n",
       "<table border=\"1\" class=\"dataframe\">\n",
       "  <thead>\n",
       "    <tr style=\"text-align: right;\">\n",
       "      <th></th>\n",
       "      <th>Order ID</th>\n",
       "      <th>Product</th>\n",
       "      <th>Quantity Ordered</th>\n",
       "      <th>Price Each</th>\n",
       "      <th>Order Date</th>\n",
       "      <th>Purchase Address</th>\n",
       "    </tr>\n",
       "  </thead>\n",
       "  <tbody>\n",
       "    <tr>\n",
       "      <th>0</th>\n",
       "      <td>141234.0</td>\n",
       "      <td>iPhone</td>\n",
       "      <td>1.0</td>\n",
       "      <td>700.00</td>\n",
       "      <td>1/22/2019 21:25</td>\n",
       "      <td>944 Walnut St, Boston, MA 02215</td>\n",
       "    </tr>\n",
       "    <tr>\n",
       "      <th>1</th>\n",
       "      <td>141235.0</td>\n",
       "      <td>Lightning Charging Cable</td>\n",
       "      <td>1.0</td>\n",
       "      <td>14.95</td>\n",
       "      <td>1/28/2019 14:15</td>\n",
       "      <td>185 Maple St, Portland, OR 97035</td>\n",
       "    </tr>\n",
       "    <tr>\n",
       "      <th>2</th>\n",
       "      <td>141236.0</td>\n",
       "      <td>Wired Headphones</td>\n",
       "      <td>2.0</td>\n",
       "      <td>11.99</td>\n",
       "      <td>1/17/2019 13:33</td>\n",
       "      <td>538 Adams St, San Francisco, CA 94016</td>\n",
       "    </tr>\n",
       "    <tr>\n",
       "      <th>3</th>\n",
       "      <td>141237.0</td>\n",
       "      <td>27in FHD Monitor</td>\n",
       "      <td>1.0</td>\n",
       "      <td>149.99</td>\n",
       "      <td>1/5/2019 20:33</td>\n",
       "      <td>738 10th St, Los Angeles, CA 90001</td>\n",
       "    </tr>\n",
       "    <tr>\n",
       "      <th>4</th>\n",
       "      <td>141238.0</td>\n",
       "      <td>Wired Headphones</td>\n",
       "      <td>1.0</td>\n",
       "      <td>11.99</td>\n",
       "      <td>1/25/2019 11:59</td>\n",
       "      <td>387 10th St, Austin, TX 73301</td>\n",
       "    </tr>\n",
       "  </tbody>\n",
       "</table>\n",
       "</div>"
      ],
      "text/plain": [
       "   Order ID                   Product  Quantity Ordered  Price Each  \\\n",
       "0  141234.0                    iPhone               1.0      700.00   \n",
       "1  141235.0  Lightning Charging Cable               1.0       14.95   \n",
       "2  141236.0          Wired Headphones               2.0       11.99   \n",
       "3  141237.0          27in FHD Monitor               1.0      149.99   \n",
       "4  141238.0          Wired Headphones               1.0       11.99   \n",
       "\n",
       "        Order Date                       Purchase Address  \n",
       "0  1/22/2019 21:25        944 Walnut St, Boston, MA 02215  \n",
       "1  1/28/2019 14:15       185 Maple St, Portland, OR 97035  \n",
       "2  1/17/2019 13:33  538 Adams St, San Francisco, CA 94016  \n",
       "3   1/5/2019 20:33     738 10th St, Los Angeles, CA 90001  \n",
       "4  1/25/2019 11:59          387 10th St, Austin, TX 73301  "
      ]
     },
     "execution_count": 10,
     "metadata": {},
     "output_type": "execute_result"
    }
   ],
   "source": [
    "#Displaying the first five data from the dataframe before creating new column\n",
    "BAFrame.head()"
   ]
  },
  {
   "cell_type": "code",
   "execution_count": 11,
   "id": "da9f55b9",
   "metadata": {},
   "outputs": [
    {
     "data": {
      "text/html": [
       "<div>\n",
       "<style scoped>\n",
       "    .dataframe tbody tr th:only-of-type {\n",
       "        vertical-align: middle;\n",
       "    }\n",
       "\n",
       "    .dataframe tbody tr th {\n",
       "        vertical-align: top;\n",
       "    }\n",
       "\n",
       "    .dataframe thead th {\n",
       "        text-align: right;\n",
       "    }\n",
       "</style>\n",
       "<table border=\"1\" class=\"dataframe\">\n",
       "  <thead>\n",
       "    <tr style=\"text-align: right;\">\n",
       "      <th></th>\n",
       "      <th>Order ID</th>\n",
       "      <th>Product</th>\n",
       "      <th>Quantity Ordered</th>\n",
       "      <th>Price Each</th>\n",
       "      <th>Order Date</th>\n",
       "      <th>Purchase Address</th>\n",
       "      <th>Month</th>\n",
       "    </tr>\n",
       "  </thead>\n",
       "  <tbody>\n",
       "    <tr>\n",
       "      <th>0</th>\n",
       "      <td>141234.0</td>\n",
       "      <td>iPhone</td>\n",
       "      <td>1.0</td>\n",
       "      <td>700.00</td>\n",
       "      <td>1/22/2019 21:25</td>\n",
       "      <td>944 Walnut St, Boston, MA 02215</td>\n",
       "      <td>1</td>\n",
       "    </tr>\n",
       "    <tr>\n",
       "      <th>1</th>\n",
       "      <td>141235.0</td>\n",
       "      <td>Lightning Charging Cable</td>\n",
       "      <td>1.0</td>\n",
       "      <td>14.95</td>\n",
       "      <td>1/28/2019 14:15</td>\n",
       "      <td>185 Maple St, Portland, OR 97035</td>\n",
       "      <td>1</td>\n",
       "    </tr>\n",
       "    <tr>\n",
       "      <th>2</th>\n",
       "      <td>141236.0</td>\n",
       "      <td>Wired Headphones</td>\n",
       "      <td>2.0</td>\n",
       "      <td>11.99</td>\n",
       "      <td>1/17/2019 13:33</td>\n",
       "      <td>538 Adams St, San Francisco, CA 94016</td>\n",
       "      <td>1</td>\n",
       "    </tr>\n",
       "    <tr>\n",
       "      <th>3</th>\n",
       "      <td>141237.0</td>\n",
       "      <td>27in FHD Monitor</td>\n",
       "      <td>1.0</td>\n",
       "      <td>149.99</td>\n",
       "      <td>1/5/2019 20:33</td>\n",
       "      <td>738 10th St, Los Angeles, CA 90001</td>\n",
       "      <td>1</td>\n",
       "    </tr>\n",
       "    <tr>\n",
       "      <th>4</th>\n",
       "      <td>141238.0</td>\n",
       "      <td>Wired Headphones</td>\n",
       "      <td>1.0</td>\n",
       "      <td>11.99</td>\n",
       "      <td>1/25/2019 11:59</td>\n",
       "      <td>387 10th St, Austin, TX 73301</td>\n",
       "      <td>1</td>\n",
       "    </tr>\n",
       "  </tbody>\n",
       "</table>\n",
       "</div>"
      ],
      "text/plain": [
       "   Order ID                   Product  Quantity Ordered  Price Each  \\\n",
       "0  141234.0                    iPhone               1.0      700.00   \n",
       "1  141235.0  Lightning Charging Cable               1.0       14.95   \n",
       "2  141236.0          Wired Headphones               2.0       11.99   \n",
       "3  141237.0          27in FHD Monitor               1.0      149.99   \n",
       "4  141238.0          Wired Headphones               1.0       11.99   \n",
       "\n",
       "        Order Date                       Purchase Address  Month  \n",
       "0  1/22/2019 21:25        944 Walnut St, Boston, MA 02215      1  \n",
       "1  1/28/2019 14:15       185 Maple St, Portland, OR 97035      1  \n",
       "2  1/17/2019 13:33  538 Adams St, San Francisco, CA 94016      1  \n",
       "3   1/5/2019 20:33     738 10th St, Los Angeles, CA 90001      1  \n",
       "4  1/25/2019 11:59          387 10th St, Austin, TX 73301      1  "
      ]
     },
     "execution_count": 11,
     "metadata": {},
     "output_type": "execute_result"
    }
   ],
   "source": [
    "#creating new column \"Month\" and keeping the value from \"Order Date\" after spliting the values\n",
    "BAFrame['Month'] = BAFrame['Order Date'].str.split('/').str[0]\n",
    "\n",
    "#converting  the data type of new column \"Month\" into integer\n",
    "BAFrame['Month'] = BAFrame['Month'].astype(int)\n",
    "\n",
    "#Displaying the first five data from the dataframe after creating new column\n",
    "BAFrame.head()"
   ]
  },
  {
   "cell_type": "code",
   "execution_count": 12,
   "id": "a45c3ee0",
   "metadata": {
    "scrolled": true
   },
   "outputs": [
    {
     "data": {
      "text/plain": [
       "Order ID            float64\n",
       "Product              object\n",
       "Quantity Ordered    float64\n",
       "Price Each          float64\n",
       "Order Date           object\n",
       "Purchase Address     object\n",
       "Month                 int32\n",
       "dtype: object"
      ]
     },
     "execution_count": 12,
     "metadata": {},
     "output_type": "execute_result"
    }
   ],
   "source": [
    "#checking the data type of the new column \"Month\"\n",
    "BAFrame.dtypes"
   ]
  },
  {
   "cell_type": "markdown",
   "id": "9b1b778f",
   "metadata": {},
   "source": [
    "### Create a new column named City from Purchase Address based on the value in updated dataframe."
   ]
  },
  {
   "cell_type": "code",
   "execution_count": 13,
   "id": "fb985680",
   "metadata": {},
   "outputs": [],
   "source": [
    "#creating a new column \"City\" and keeping the value from \"Purchase Address\" after spliting the values\n",
    "BAFrame['City'] = BAFrame['Purchase Address'].str.split(',').str[1]"
   ]
  },
  {
   "cell_type": "code",
   "execution_count": 14,
   "id": "b43673b1",
   "metadata": {},
   "outputs": [
    {
     "data": {
      "text/html": [
       "<div>\n",
       "<style scoped>\n",
       "    .dataframe tbody tr th:only-of-type {\n",
       "        vertical-align: middle;\n",
       "    }\n",
       "\n",
       "    .dataframe tbody tr th {\n",
       "        vertical-align: top;\n",
       "    }\n",
       "\n",
       "    .dataframe thead th {\n",
       "        text-align: right;\n",
       "    }\n",
       "</style>\n",
       "<table border=\"1\" class=\"dataframe\">\n",
       "  <thead>\n",
       "    <tr style=\"text-align: right;\">\n",
       "      <th></th>\n",
       "      <th>Order ID</th>\n",
       "      <th>Product</th>\n",
       "      <th>Quantity Ordered</th>\n",
       "      <th>Price Each</th>\n",
       "      <th>Order Date</th>\n",
       "      <th>Purchase Address</th>\n",
       "      <th>Month</th>\n",
       "      <th>City</th>\n",
       "    </tr>\n",
       "  </thead>\n",
       "  <tbody>\n",
       "    <tr>\n",
       "      <th>0</th>\n",
       "      <td>141234.0</td>\n",
       "      <td>iPhone</td>\n",
       "      <td>1.0</td>\n",
       "      <td>700.00</td>\n",
       "      <td>1/22/2019 21:25</td>\n",
       "      <td>944 Walnut St, Boston, MA 02215</td>\n",
       "      <td>1</td>\n",
       "      <td>Boston</td>\n",
       "    </tr>\n",
       "    <tr>\n",
       "      <th>1</th>\n",
       "      <td>141235.0</td>\n",
       "      <td>Lightning Charging Cable</td>\n",
       "      <td>1.0</td>\n",
       "      <td>14.95</td>\n",
       "      <td>1/28/2019 14:15</td>\n",
       "      <td>185 Maple St, Portland, OR 97035</td>\n",
       "      <td>1</td>\n",
       "      <td>Portland</td>\n",
       "    </tr>\n",
       "    <tr>\n",
       "      <th>2</th>\n",
       "      <td>141236.0</td>\n",
       "      <td>Wired Headphones</td>\n",
       "      <td>2.0</td>\n",
       "      <td>11.99</td>\n",
       "      <td>1/17/2019 13:33</td>\n",
       "      <td>538 Adams St, San Francisco, CA 94016</td>\n",
       "      <td>1</td>\n",
       "      <td>San Francisco</td>\n",
       "    </tr>\n",
       "    <tr>\n",
       "      <th>3</th>\n",
       "      <td>141237.0</td>\n",
       "      <td>27in FHD Monitor</td>\n",
       "      <td>1.0</td>\n",
       "      <td>149.99</td>\n",
       "      <td>1/5/2019 20:33</td>\n",
       "      <td>738 10th St, Los Angeles, CA 90001</td>\n",
       "      <td>1</td>\n",
       "      <td>Los Angeles</td>\n",
       "    </tr>\n",
       "    <tr>\n",
       "      <th>4</th>\n",
       "      <td>141238.0</td>\n",
       "      <td>Wired Headphones</td>\n",
       "      <td>1.0</td>\n",
       "      <td>11.99</td>\n",
       "      <td>1/25/2019 11:59</td>\n",
       "      <td>387 10th St, Austin, TX 73301</td>\n",
       "      <td>1</td>\n",
       "      <td>Austin</td>\n",
       "    </tr>\n",
       "  </tbody>\n",
       "</table>\n",
       "</div>"
      ],
      "text/plain": [
       "   Order ID                   Product  Quantity Ordered  Price Each  \\\n",
       "0  141234.0                    iPhone               1.0      700.00   \n",
       "1  141235.0  Lightning Charging Cable               1.0       14.95   \n",
       "2  141236.0          Wired Headphones               2.0       11.99   \n",
       "3  141237.0          27in FHD Monitor               1.0      149.99   \n",
       "4  141238.0          Wired Headphones               1.0       11.99   \n",
       "\n",
       "        Order Date                       Purchase Address  Month  \\\n",
       "0  1/22/2019 21:25        944 Walnut St, Boston, MA 02215      1   \n",
       "1  1/28/2019 14:15       185 Maple St, Portland, OR 97035      1   \n",
       "2  1/17/2019 13:33  538 Adams St, San Francisco, CA 94016      1   \n",
       "3   1/5/2019 20:33     738 10th St, Los Angeles, CA 90001      1   \n",
       "4  1/25/2019 11:59          387 10th St, Austin, TX 73301      1   \n",
       "\n",
       "             City  \n",
       "0          Boston  \n",
       "1        Portland  \n",
       "2   San Francisco  \n",
       "3     Los Angeles  \n",
       "4          Austin  "
      ]
     },
     "execution_count": 14,
     "metadata": {},
     "output_type": "execute_result"
    }
   ],
   "source": [
    "#Displaying the first five data from the dataframe after creating new column \"City\"\n",
    "BAFrame.head()"
   ]
  },
  {
   "cell_type": "markdown",
   "id": "f8095b37",
   "metadata": {},
   "source": [
    "### Write a Python program to show summary statistics of sum, mean, standard deviation, skewness, and kurtosis of any chosen variable.  "
   ]
  },
  {
   "cell_type": "code",
   "execution_count": 15,
   "id": "8921b0e8",
   "metadata": {},
   "outputs": [
    {
     "data": {
      "text/html": [
       "<div>\n",
       "<style scoped>\n",
       "    .dataframe tbody tr th:only-of-type {\n",
       "        vertical-align: middle;\n",
       "    }\n",
       "\n",
       "    .dataframe tbody tr th {\n",
       "        vertical-align: top;\n",
       "    }\n",
       "\n",
       "    .dataframe thead th {\n",
       "        text-align: right;\n",
       "    }\n",
       "</style>\n",
       "<table border=\"1\" class=\"dataframe\">\n",
       "  <thead>\n",
       "    <tr style=\"text-align: right;\">\n",
       "      <th></th>\n",
       "      <th>Values</th>\n",
       "    </tr>\n",
       "  </thead>\n",
       "  <tbody>\n",
       "    <tr>\n",
       "      <th>Sum:</th>\n",
       "      <td>209079.000000</td>\n",
       "    </tr>\n",
       "    <tr>\n",
       "      <th>Mean:</th>\n",
       "      <td>1.124383</td>\n",
       "    </tr>\n",
       "    <tr>\n",
       "      <th>Standard Deviation:</th>\n",
       "      <td>0.442793</td>\n",
       "    </tr>\n",
       "    <tr>\n",
       "      <th>Skewness:</th>\n",
       "      <td>4.833164</td>\n",
       "    </tr>\n",
       "    <tr>\n",
       "      <th>Kurtosis:</th>\n",
       "      <td>31.820489</td>\n",
       "    </tr>\n",
       "  </tbody>\n",
       "</table>\n",
       "</div>"
      ],
      "text/plain": [
       "                            Values\n",
       "Sum:                 209079.000000\n",
       "Mean:                     1.124383\n",
       "Standard Deviation:       0.442793\n",
       "Skewness:                 4.833164\n",
       "Kurtosis:                31.820489"
      ]
     },
     "execution_count": 15,
     "metadata": {},
     "output_type": "execute_result"
    }
   ],
   "source": [
    "#calculating given statics of \"Quantity Ordered\" and keeping it in series\n",
    "Calculation = pd.DataFrame([BAFrame['Quantity Ordered'].sum(),\n",
    "                         BAFrame['Quantity Ordered'].mean(),\n",
    "                         BAFrame['Quantity Ordered'].std(),\n",
    "                         BAFrame['Quantity Ordered'].skew(),\n",
    "                         BAFrame['Quantity Ordered'].kurtosis()], columns = ['Values'],\n",
    "                        index=['Sum:','Mean:','Standard Deviation:', 'Skewness:', 'Kurtosis:'])\n",
    "\n",
    "Calculation"
   ]
  },
  {
   "cell_type": "code",
   "execution_count": 16,
   "id": "2a5a6745",
   "metadata": {},
   "outputs": [
    {
     "data": {
      "text/html": [
       "<div>\n",
       "<style scoped>\n",
       "    .dataframe tbody tr th:only-of-type {\n",
       "        vertical-align: middle;\n",
       "    }\n",
       "\n",
       "    .dataframe tbody tr th {\n",
       "        vertical-align: top;\n",
       "    }\n",
       "\n",
       "    .dataframe thead th {\n",
       "        text-align: right;\n",
       "    }\n",
       "</style>\n",
       "<table border=\"1\" class=\"dataframe\">\n",
       "  <thead>\n",
       "    <tr style=\"text-align: right;\">\n",
       "      <th></th>\n",
       "      <th>values</th>\n",
       "    </tr>\n",
       "  </thead>\n",
       "  <tbody>\n",
       "    <tr>\n",
       "      <th>Sum:</th>\n",
       "      <td>NaN</td>\n",
       "    </tr>\n",
       "    <tr>\n",
       "      <th>Mean:</th>\n",
       "      <td>NaN</td>\n",
       "    </tr>\n",
       "    <tr>\n",
       "      <th>Standard Deviation:</th>\n",
       "      <td>NaN</td>\n",
       "    </tr>\n",
       "    <tr>\n",
       "      <th>Skewness:</th>\n",
       "      <td>NaN</td>\n",
       "    </tr>\n",
       "    <tr>\n",
       "      <th>Kurtosis:</th>\n",
       "      <td>NaN</td>\n",
       "    </tr>\n",
       "  </tbody>\n",
       "</table>\n",
       "</div>"
      ],
      "text/plain": [
       "                     values\n",
       "Sum:                    NaN\n",
       "Mean:                   NaN\n",
       "Standard Deviation:     NaN\n",
       "Skewness:               NaN\n",
       "Kurtosis:               NaN"
      ]
     },
     "execution_count": 16,
     "metadata": {},
     "output_type": "execute_result"
    }
   ],
   "source": [
    "#converting series into the data frame\n",
    "Statics = pd.DataFrame(Calculation, columns=['values'])\n",
    "\n",
    "#displaying data frame of the calculated statistics\n",
    "Statics"
   ]
  },
  {
   "cell_type": "markdown",
   "id": "7f5a15a1",
   "metadata": {},
   "source": [
    "### Write a Python program to calculate and show correlation of all variables. "
   ]
  },
  {
   "cell_type": "code",
   "execution_count": 17,
   "id": "5e526e35",
   "metadata": {},
   "outputs": [
    {
     "data": {
      "text/html": [
       "<div>\n",
       "<style scoped>\n",
       "    .dataframe tbody tr th:only-of-type {\n",
       "        vertical-align: middle;\n",
       "    }\n",
       "\n",
       "    .dataframe tbody tr th {\n",
       "        vertical-align: top;\n",
       "    }\n",
       "\n",
       "    .dataframe thead th {\n",
       "        text-align: right;\n",
       "    }\n",
       "</style>\n",
       "<table border=\"1\" class=\"dataframe\">\n",
       "  <thead>\n",
       "    <tr style=\"text-align: right;\">\n",
       "      <th></th>\n",
       "      <th>Order ID</th>\n",
       "      <th>Quantity Ordered</th>\n",
       "      <th>Price Each</th>\n",
       "      <th>Month</th>\n",
       "    </tr>\n",
       "  </thead>\n",
       "  <tbody>\n",
       "    <tr>\n",
       "      <th>Order ID</th>\n",
       "      <td>1.000000</td>\n",
       "      <td>0.000702</td>\n",
       "      <td>-0.002857</td>\n",
       "      <td>0.993063</td>\n",
       "    </tr>\n",
       "    <tr>\n",
       "      <th>Quantity Ordered</th>\n",
       "      <td>0.000702</td>\n",
       "      <td>1.000000</td>\n",
       "      <td>-0.148272</td>\n",
       "      <td>0.000791</td>\n",
       "    </tr>\n",
       "    <tr>\n",
       "      <th>Price Each</th>\n",
       "      <td>-0.002857</td>\n",
       "      <td>-0.148272</td>\n",
       "      <td>1.000000</td>\n",
       "      <td>-0.003375</td>\n",
       "    </tr>\n",
       "    <tr>\n",
       "      <th>Month</th>\n",
       "      <td>0.993063</td>\n",
       "      <td>0.000791</td>\n",
       "      <td>-0.003375</td>\n",
       "      <td>1.000000</td>\n",
       "    </tr>\n",
       "  </tbody>\n",
       "</table>\n",
       "</div>"
      ],
      "text/plain": [
       "                  Order ID  Quantity Ordered  Price Each     Month\n",
       "Order ID          1.000000          0.000702   -0.002857  0.993063\n",
       "Quantity Ordered  0.000702          1.000000   -0.148272  0.000791\n",
       "Price Each       -0.002857         -0.148272    1.000000 -0.003375\n",
       "Month             0.993063          0.000791   -0.003375  1.000000"
      ]
     },
     "execution_count": 17,
     "metadata": {},
     "output_type": "execute_result"
    }
   ],
   "source": [
    "#displaying the correlation all the variables\n",
    "BAFrame.corr()"
   ]
  },
  {
   "cell_type": "code",
   "execution_count": 18,
   "id": "7a1d6fed",
   "metadata": {},
   "outputs": [
    {
     "data": {
      "text/plain": [
       "Text(0.5, 1.0, 'Correlation of Variables in BAFrame data frame')"
      ]
     },
     "execution_count": 18,
     "metadata": {},
     "output_type": "execute_result"
    },
    {
     "data": {
      "image/png": "[encoded data removed]",
      "text/plain": [
       "<Figure size 640x480 with 2 Axes>"
      ]
     },
     "metadata": {},
     "output_type": "display_data"
    }
   ],
   "source": [
    "#displaying heatmap of the correlation of the variables\n",
    "VH = sns.heatmap(BAFrame.corr(), linewidth = .5, cmap = 'Blues' )\n",
    "\n",
    "#setting title of the heat map\n",
    "VH.set_title(\"Correlation of Variables in BAFrame data frame\", size = 14)\n"
   ]
  },
  {
   "cell_type": "markdown",
   "id": "df95e9f0",
   "metadata": {},
   "source": [
    "### Which Month has the best sales? and how much was the earning in that month? Make a bar graph of sales as well. "
   ]
  },
  {
   "cell_type": "code",
   "execution_count": 19,
   "id": "253cfce0",
   "metadata": {},
   "outputs": [],
   "source": [
    "#creating new column \"Sales\" by calculating the total earnings using \"Quantity Ordered\" and \"Price Each\"\n",
    "BAFrame['Sales'] = BAFrame['Quantity Ordered'] * BAFrame['Price Each']"
   ]
  },
  {
   "cell_type": "code",
   "execution_count": 20,
   "id": "faffa0ef",
   "metadata": {},
   "outputs": [
    {
     "data": {
      "text/html": [
       "<div>\n",
       "<style scoped>\n",
       "    .dataframe tbody tr th:only-of-type {\n",
       "        vertical-align: middle;\n",
       "    }\n",
       "\n",
       "    .dataframe tbody tr th {\n",
       "        vertical-align: top;\n",
       "    }\n",
       "\n",
       "    .dataframe thead th {\n",
       "        text-align: right;\n",
       "    }\n",
       "</style>\n",
       "<table border=\"1\" class=\"dataframe\">\n",
       "  <thead>\n",
       "    <tr style=\"text-align: right;\">\n",
       "      <th></th>\n",
       "      <th>Order ID</th>\n",
       "      <th>Product</th>\n",
       "      <th>Quantity Ordered</th>\n",
       "      <th>Price Each</th>\n",
       "      <th>Order Date</th>\n",
       "      <th>Purchase Address</th>\n",
       "      <th>Month</th>\n",
       "      <th>City</th>\n",
       "      <th>Sales</th>\n",
       "    </tr>\n",
       "  </thead>\n",
       "  <tbody>\n",
       "    <tr>\n",
       "      <th>0</th>\n",
       "      <td>141234.0</td>\n",
       "      <td>iPhone</td>\n",
       "      <td>1.0</td>\n",
       "      <td>700.00</td>\n",
       "      <td>1/22/2019 21:25</td>\n",
       "      <td>944 Walnut St, Boston, MA 02215</td>\n",
       "      <td>1</td>\n",
       "      <td>Boston</td>\n",
       "      <td>700.00</td>\n",
       "    </tr>\n",
       "    <tr>\n",
       "      <th>1</th>\n",
       "      <td>141235.0</td>\n",
       "      <td>Lightning Charging Cable</td>\n",
       "      <td>1.0</td>\n",
       "      <td>14.95</td>\n",
       "      <td>1/28/2019 14:15</td>\n",
       "      <td>185 Maple St, Portland, OR 97035</td>\n",
       "      <td>1</td>\n",
       "      <td>Portland</td>\n",
       "      <td>14.95</td>\n",
       "    </tr>\n",
       "    <tr>\n",
       "      <th>2</th>\n",
       "      <td>141236.0</td>\n",
       "      <td>Wired Headphones</td>\n",
       "      <td>2.0</td>\n",
       "      <td>11.99</td>\n",
       "      <td>1/17/2019 13:33</td>\n",
       "      <td>538 Adams St, San Francisco, CA 94016</td>\n",
       "      <td>1</td>\n",
       "      <td>San Francisco</td>\n",
       "      <td>23.98</td>\n",
       "    </tr>\n",
       "    <tr>\n",
       "      <th>3</th>\n",
       "      <td>141237.0</td>\n",
       "      <td>27in FHD Monitor</td>\n",
       "      <td>1.0</td>\n",
       "      <td>149.99</td>\n",
       "      <td>1/5/2019 20:33</td>\n",
       "      <td>738 10th St, Los Angeles, CA 90001</td>\n",
       "      <td>1</td>\n",
       "      <td>Los Angeles</td>\n",
       "      <td>149.99</td>\n",
       "    </tr>\n",
       "    <tr>\n",
       "      <th>4</th>\n",
       "      <td>141238.0</td>\n",
       "      <td>Wired Headphones</td>\n",
       "      <td>1.0</td>\n",
       "      <td>11.99</td>\n",
       "      <td>1/25/2019 11:59</td>\n",
       "      <td>387 10th St, Austin, TX 73301</td>\n",
       "      <td>1</td>\n",
       "      <td>Austin</td>\n",
       "      <td>11.99</td>\n",
       "    </tr>\n",
       "  </tbody>\n",
       "</table>\n",
       "</div>"
      ],
      "text/plain": [
       "   Order ID                   Product  Quantity Ordered  Price Each  \\\n",
       "0  141234.0                    iPhone               1.0      700.00   \n",
       "1  141235.0  Lightning Charging Cable               1.0       14.95   \n",
       "2  141236.0          Wired Headphones               2.0       11.99   \n",
       "3  141237.0          27in FHD Monitor               1.0      149.99   \n",
       "4  141238.0          Wired Headphones               1.0       11.99   \n",
       "\n",
       "        Order Date                       Purchase Address  Month  \\\n",
       "0  1/22/2019 21:25        944 Walnut St, Boston, MA 02215      1   \n",
       "1  1/28/2019 14:15       185 Maple St, Portland, OR 97035      1   \n",
       "2  1/17/2019 13:33  538 Adams St, San Francisco, CA 94016      1   \n",
       "3   1/5/2019 20:33     738 10th St, Los Angeles, CA 90001      1   \n",
       "4  1/25/2019 11:59          387 10th St, Austin, TX 73301      1   \n",
       "\n",
       "             City   Sales  \n",
       "0          Boston  700.00  \n",
       "1        Portland   14.95  \n",
       "2   San Francisco   23.98  \n",
       "3     Los Angeles  149.99  \n",
       "4          Austin   11.99  "
      ]
     },
     "execution_count": 20,
     "metadata": {},
     "output_type": "execute_result"
    }
   ],
   "source": [
    "#Displaying the first five data from the dataframe after creating new column \"Sales\"\n",
    "BAFrame.head()"
   ]
  },
  {
   "cell_type": "code",
   "execution_count": 21,
   "id": "131043a8",
   "metadata": {},
   "outputs": [
    {
     "data": {
      "text/plain": [
       "Month\n",
       "1     1822256.73\n",
       "2     2202022.42\n",
       "3     2807100.38\n",
       "4     3390670.24\n",
       "5     3152606.75\n",
       "6     2577802.26\n",
       "7     2647775.76\n",
       "8     2244467.88\n",
       "9     2097560.13\n",
       "10    3736726.88\n",
       "11    3199603.20\n",
       "12    4613443.34\n",
       "Name: Sales, dtype: float64"
      ]
     },
     "execution_count": 21,
     "metadata": {},
     "output_type": "execute_result"
    }
   ],
   "source": [
    "#creating new series \"Monthly_Sales\" and grouping by Month as index and Sales as values\n",
    "Monthly_Sales = BAFrame.groupby('Month')['Sales'].sum()\n",
    "\n",
    "#Displaying sales of all the months\n",
    "Monthly_Sales"
   ]
  },
  {
   "cell_type": "code",
   "execution_count": 22,
   "id": "652bd1f8",
   "metadata": {},
   "outputs": [
    {
     "name": "stdout",
     "output_type": "stream",
     "text": [
      "Month with best Sales is: 12\n"
     ]
    }
   ],
   "source": [
    "#finding the month with the maximum sales\n",
    "print(\"Month with best Sales is: \" + str(Monthly_Sales.idxmax()))"
   ]
  },
  {
   "cell_type": "code",
   "execution_count": 23,
   "id": "7cc5f89b",
   "metadata": {},
   "outputs": [
    {
     "name": "stdout",
     "output_type": "stream",
     "text": [
      "The toal best sale is: 4613443.34\n"
     ]
    }
   ],
   "source": [
    "#finding the maximum sales done in a month\n",
    "print(\"The toal best sale is: \" + str(Monthly_Sales.max()))"
   ]
  },
  {
   "cell_type": "code",
   "execution_count": 24,
   "id": "6b61674c",
   "metadata": {
    "scrolled": false
   },
   "outputs": [
    {
     "data": {
      "image/png": "[encoded data removed]",
      "text/plain": [
       "<Figure size 640x480 with 1 Axes>"
      ]
     },
     "metadata": {},
     "output_type": "display_data"
    },
    {
     "name": "stdout",
     "output_type": "stream",
     "text": [
      "Month with best Sales is: 12\n",
      "The toal best sale in that month is: 4613443.34\n"
     ]
    }
   ],
   "source": [
    "#displaing in bar graph of the total sales in every month\n",
    "Monthly_Sales = BAFrame.groupby('Month')['Sales'].sum()\n",
    "plt.bar(Monthly_Sales.index, Monthly_Sales.values, width = 0.7)\n",
    "plt.xlabel('Months', size = 12)\n",
    "plt.ylabel('Total Monthly Sales', size = 12)\n",
    "plt.title('Total Sales per Month', size = 14)\n",
    "plt.xticks(Monthly_Sales.index)\n",
    "plt.show()\n",
    "\n",
    "#displaying name of the best sales and its month\n",
    "print(\"Month with best Sales is: \" + str(Monthly_Sales.idxmax()))\n",
    "print(\"The toal best sale in that month is: \" + str(Monthly_Sales.max()))"
   ]
  },
  {
   "cell_type": "markdown",
   "id": "13d46c28",
   "metadata": {},
   "source": [
    "### Which city has sold the highest product?"
   ]
  },
  {
   "cell_type": "code",
   "execution_count": 25,
   "id": "1780fa40",
   "metadata": {},
   "outputs": [
    {
     "data": {
      "text/plain": [
       "' San Francisco'"
      ]
     },
     "execution_count": 25,
     "metadata": {},
     "output_type": "execute_result"
    }
   ],
   "source": [
    "#finding the city with the highest quantity sold\n",
    "Highest_Quantity = BAFrame.groupby('City')['Quantity Ordered'].sum()\n",
    "Highest_Quantity.idxmax()"
   ]
  },
  {
   "cell_type": "code",
   "execution_count": 26,
   "id": "8477a797",
   "metadata": {},
   "outputs": [
    {
     "data": {
      "image/png": "[encoded data removed]",
      "text/plain": [
       "<Figure size 640x480 with 1 Axes>"
      ]
     },
     "metadata": {},
     "output_type": "display_data"
    },
    {
     "name": "stdout",
     "output_type": "stream",
     "text": [
      "Highest product selling city is San Francisco\n"
     ]
    }
   ],
   "source": [
    "#displaying bar graph of the city with the highest quantity sold\n",
    "Highest_Quantity = BAFrame.groupby('City')['Quantity Ordered'].sum()\n",
    "color = color= ['C0', 'C0', 'C0','C0', 'C0', 'C0', 'C0', 'C3','C0']\n",
    "plt.bar(Highest_Quantity.index, Highest_Quantity.values, color = color)\n",
    "plt.xlabel('Name of Cities', size = 12)\n",
    "plt.ylabel('Quantity Ordered',size = 12)\n",
    "plt.title('Bar Graph of Highest product sold according to Cities', size = 14)\n",
    "plt.ylim(bottom=0, top=60000)\n",
    "plt.xticks(rotation = 90)\n",
    "plt.show()\n",
    "\n",
    "print(\"Highest product selling city is\" + str(Highest_Quantity.idxmax()))"
   ]
  },
  {
   "cell_type": "markdown",
   "id": "d44e8a6f",
   "metadata": {},
   "source": [
    "### Which product was sold the most in overall? Illustrate it through bar graph."
   ]
  },
  {
   "cell_type": "code",
   "execution_count": 27,
   "id": "2292ffb7",
   "metadata": {
    "scrolled": false
   },
   "outputs": [
    {
     "data": {
      "image/png": "[encoded data removed]",
      "text/plain": [
       "<Figure size 640x480 with 1 Axes>"
      ]
     },
     "metadata": {},
     "output_type": "display_data"
    },
    {
     "name": "stdout",
     "output_type": "stream",
     "text": [
      "The highest sold product is AAA Batteries (4-pack)\n"
     ]
    }
   ],
   "source": [
    "#displaying bar graph of the product sold in the highest quantity\n",
    "Highest_Product = BAFrame.groupby('Product')['Quantity Ordered'].sum()\n",
    "rang = color= ['C0', 'C0', 'C0', 'C0', 'C0', 'C3','C0', 'C0','C0', 'C0','C0', 'C0','C0', 'C0','C0']\n",
    "plt.bar(Highest_Product.index, Highest_Product.values, width = 0.8, color = rang)\n",
    "plt.xlabel('Name of Products', size = 12)\n",
    "plt.ylabel('Quantity Ordered',size = 12)\n",
    "plt.title('Bar Graph of quantity of products sold', size = 14)\n",
    "plt.xticks(rotation=90)\n",
    "plt.show()\n",
    "\n",
    "#printing the name of the product sold in the highest quantity\n",
    "print (\"The highest sold product is \" + str(Highest_Product.idxmax()))\n"
   ]
  },
  {
   "cell_type": "markdown",
   "id": "7270709b",
   "metadata": {},
   "source": [
    "### Write a Python program to show histogram plot of any chosen variables. Use proper labels in the graph."
   ]
  },
  {
   "cell_type": "code",
   "execution_count": 28,
   "id": "e81e22b4",
   "metadata": {},
   "outputs": [
    {
     "data": {
      "image/png": "[encoded data removed]",
      "text/plain": [
       "<Figure size 640x480 with 1 Axes>"
      ]
     },
     "metadata": {},
     "output_type": "display_data"
    }
   ],
   "source": [
    "#displaying histogram of \"Price Each\" column \n",
    "plt.hist(BAFrame['Price Each'], edgecolor = 'black')\n",
    "plt.xticks(rotation = 90)\n",
    "plt.title('Histogram of column Price Each')\n",
    "plt.show()"
   ]
  },
  {
   "cell_type": "code",
   "execution_count": null,
   "id": "a456db5e",
   "metadata": {},
   "outputs": [],
   "source": []
  },
  {
   "cell_type": "code",
   "execution_count": null,
   "id": "4aeaf375",
   "metadata": {},
   "outputs": [],
   "source": []
  }
 ],
 "metadata": {
  "kernelspec": {
   "display_name": "Python 3 (ipykernel)",
   "language": "python",
   "name": "python3"
  },
  "language_info": {
   "codemirror_mode": {
    "name": "ipython",
    "version": 3
   },
   "file_extension": ".py",
   "mimetype": "text/x-python",
   "name": "python",
   "nbconvert_exporter": "python",
   "pygments_lexer": "ipython3",
   "version": "3.9.13"
  }
 },
 "nbformat": 4,
 "nbformat_minor": 5
}
